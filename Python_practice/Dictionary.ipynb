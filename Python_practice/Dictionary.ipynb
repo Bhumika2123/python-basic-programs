{
 "cells": [
  {
   "cell_type": "markdown",
   "id": "57391fd0-493f-47c9-9c39-5880ff9e745a",
   "metadata": {},
   "source": [
    "Dictionary in python"
   ]
  },
  {
   "cell_type": "markdown",
   "id": "4fa47be5-d466-4f6b-a4a8-2a589df963ec",
   "metadata": {},
   "source": [
    "Dictionary in python are ordered, changable, do not allow duplicates"
   ]
  },
  {
   "cell_type": "code",
   "execution_count": 1,
   "id": "2ce36dd4-61a4-467d-8153-cace9da3adab",
   "metadata": {},
   "outputs": [
    {
     "data": {
      "text/plain": [
       "{'name': 'kjhgfd', 'cvbn': 'uytre'}"
      ]
     },
     "execution_count": 1,
     "metadata": {},
     "output_type": "execute_result"
    }
   ],
   "source": [
    "dict1={\n",
    "    \"name\": \"kjhgfd\",\n",
    "    \"cvbn\": \"uytre\"\n",
    "}\n",
    "dict1"
   ]
  },
  {
   "cell_type": "code",
   "execution_count": 4,
   "id": "098f44a3-6446-40bb-b2c9-c71ba0ef993b",
   "metadata": {},
   "outputs": [
    {
     "data": {
      "text/plain": [
       "'kjhgfd'"
      ]
     },
     "execution_count": 4,
     "metadata": {},
     "output_type": "execute_result"
    }
   ],
   "source": [
    "dict1[\"name\"]"
   ]
  },
  {
   "cell_type": "markdown",
   "id": "49c776c8-cf49-4cbf-a7ed-2924347e449d",
   "metadata": {},
   "source": [
    "using dict constructor"
   ]
  },
  {
   "cell_type": "code",
   "execution_count": 5,
   "id": "0ad17d5a-baef-4012-8f1a-7d788039db55",
   "metadata": {},
   "outputs": [],
   "source": [
    "dict2= dict(name= \"kjhgf\", fgh=\"rtyui\")"
   ]
  },
  {
   "cell_type": "code",
   "execution_count": 6,
   "id": "34798ab5-4a6e-4be8-962b-638da72b99cf",
   "metadata": {},
   "outputs": [
    {
     "data": {
      "text/plain": [
       "{'name': 'kjhgf', 'fgh': 'rtyui'}"
      ]
     },
     "execution_count": 6,
     "metadata": {},
     "output_type": "execute_result"
    }
   ],
   "source": [
    "dict2"
   ]
  },
  {
   "cell_type": "code",
   "execution_count": 7,
   "id": "1171f54c-5eb6-4468-a76e-4577faa315c3",
   "metadata": {},
   "outputs": [
    {
     "data": {
      "text/plain": [
       "'kjhgf'"
      ]
     },
     "execution_count": 7,
     "metadata": {},
     "output_type": "execute_result"
    }
   ],
   "source": [
    "dict2[\"name\"]"
   ]
  },
  {
   "cell_type": "code",
   "execution_count": 8,
   "id": "20209d43-b0e6-4be7-895d-aa910db6c0fd",
   "metadata": {},
   "outputs": [
    {
     "data": {
      "text/plain": [
       "'kjhgf'"
      ]
     },
     "execution_count": 8,
     "metadata": {},
     "output_type": "execute_result"
    }
   ],
   "source": [
    "dict2.get(\"name\")"
   ]
  },
  {
   "cell_type": "code",
   "execution_count": 9,
   "id": "0bf473c9-a149-4ec6-834c-cde8c2cb6e3c",
   "metadata": {},
   "outputs": [
    {
     "data": {
      "text/plain": [
       "dict_keys(['name', 'fgh'])"
      ]
     },
     "execution_count": 9,
     "metadata": {},
     "output_type": "execute_result"
    }
   ],
   "source": [
    "dict2.keys()"
   ]
  },
  {
   "cell_type": "code",
   "execution_count": null,
   "id": "344bd078-20e7-46af-a7fb-9a9fcf663fbd",
   "metadata": {},
   "outputs": [],
   "source": []
  }
 ],
 "metadata": {
  "kernelspec": {
   "display_name": "Python 3 (ipykernel)",
   "language": "python",
   "name": "python3"
  },
  "language_info": {
   "codemirror_mode": {
    "name": "ipython",
    "version": 3
   },
   "file_extension": ".py",
   "mimetype": "text/x-python",
   "name": "python",
   "nbconvert_exporter": "python",
   "pygments_lexer": "ipython3",
   "version": "3.11.5"
  }
 },
 "nbformat": 4,
 "nbformat_minor": 5
}
