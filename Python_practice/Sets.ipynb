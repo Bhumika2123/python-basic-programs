{
 "cells": [
  {
   "cell_type": "markdown",
   "id": "4fb55e1f-64e1-43d0-8dda-0b9ec92b5cd3",
   "metadata": {},
   "source": [
    "SETS"
   ]
  },
  {
   "cell_type": "code",
   "execution_count": 38,
   "id": "6236a0ef-7213-4c2f-9cbc-f8366b5b64b6",
   "metadata": {},
   "outputs": [
    {
     "data": {
      "text/plain": [
       "{'cvbnm', 'dxfcghjkl', 'ertyuio'}"
      ]
     },
     "execution_count": 38,
     "metadata": {},
     "output_type": "execute_result"
    }
   ],
   "source": [
    "set1= {\"cvbnm\",\"dxfcghjkl\",\"ertyuio\"}\n",
    "set1"
   ]
  },
  {
   "cell_type": "code",
   "execution_count": 43,
   "id": "de727772-1363-447e-8a3a-7f3ef0f5a8ed",
   "metadata": {},
   "outputs": [
    {
     "data": {
      "text/plain": [
       "set"
      ]
     },
     "execution_count": 43,
     "metadata": {},
     "output_type": "execute_result"
    }
   ],
   "source": [
    "type(set1)"
   ]
  },
  {
   "cell_type": "code",
   "execution_count": 44,
   "id": "b1b46f3c-68f3-4d3b-a0a4-e3cf9fe15b04",
   "metadata": {},
   "outputs": [
    {
     "name": "stdout",
     "output_type": "stream",
     "text": [
      "no\n"
     ]
    }
   ],
   "source": [
    "if \"cvbm\" in s1:\n",
    "    print(\"yes\")\n",
    "else:\n",
    "    print(\"no\")"
   ]
  },
  {
   "cell_type": "code",
   "execution_count": 45,
   "id": "8fb49943-2b32-484a-acd7-9a3425813226",
   "metadata": {},
   "outputs": [],
   "source": [
    "for i in s1:\n",
    "    print(i)"
   ]
  },
  {
   "cell_type": "code",
   "execution_count": 47,
   "id": "5aecf34a-0a6f-48f0-846c-6f5047fafbcd",
   "metadata": {},
   "outputs": [],
   "source": [
    "s2= {\"lkjhgf\",\"uy\",\"oiuyt\",\"cvbnm\"}\n",
    "s3= set1.union(s2)"
   ]
  },
  {
   "cell_type": "code",
   "execution_count": 48,
   "id": "89167946-4543-430f-9929-030ce95b962e",
   "metadata": {},
   "outputs": [
    {
     "data": {
      "text/plain": [
       "{'cvbnm', 'dxfcghjkl', 'ertyuio', 'lkjhgf', 'oiuyt', 'uy'}"
      ]
     },
     "execution_count": 48,
     "metadata": {},
     "output_type": "execute_result"
    }
   ],
   "source": [
    "s3\n"
   ]
  },
  {
   "cell_type": "code",
   "execution_count": 50,
   "id": "64eb7897-dc7d-4ff9-a1a6-977ca1a8ac9b",
   "metadata": {},
   "outputs": [],
   "source": [
    "set1.update(s2)"
   ]
  },
  {
   "cell_type": "code",
   "execution_count": 51,
   "id": "0f8d8bf6-330e-4718-a74f-b8dff795755b",
   "metadata": {},
   "outputs": [
    {
     "data": {
      "text/plain": [
       "{}"
      ]
     },
     "execution_count": 51,
     "metadata": {},
     "output_type": "execute_result"
    }
   ],
   "source": [
    "s1"
   ]
  },
  {
   "cell_type": "code",
   "execution_count": 52,
   "id": "59c6cc63-b51b-42cd-80af-9555eea83fe3",
   "metadata": {},
   "outputs": [
    {
     "data": {
      "text/plain": [
       "{'cvbnm', 'dxfcghjkl', 'ertyuio', 'lkjhgf', 'oiuyt', 'uy'}"
      ]
     },
     "execution_count": 52,
     "metadata": {},
     "output_type": "execute_result"
    }
   ],
   "source": [
    "s3"
   ]
  },
  {
   "cell_type": "code",
   "execution_count": 55,
   "id": "4ad4b35d-35e4-4599-bed2-343d42fc6bfc",
   "metadata": {},
   "outputs": [
    {
     "data": {
      "text/plain": [
       "{'cvbnm', 'lkjhgf', 'oiuyt', 'uy'}"
      ]
     },
     "execution_count": 55,
     "metadata": {},
     "output_type": "execute_result"
    }
   ],
   "source": [
    "set1.intersection(s2)"
   ]
  },
  {
   "cell_type": "code",
   "execution_count": 57,
   "id": "0d1dd41c-58b5-4b7e-85d2-36fcbfe80ee2",
   "metadata": {},
   "outputs": [],
   "source": [
    "x= set1.intersection_update(s3)\n",
    "x"
   ]
  },
  {
   "cell_type": "code",
   "execution_count": 59,
   "id": "0284829a-bd5a-45c5-9489-fdcf752ea792",
   "metadata": {},
   "outputs": [],
   "source": [
    "set1.symmetric_difference_update(s2)"
   ]
  },
  {
   "cell_type": "code",
   "execution_count": 60,
   "id": "133f0909-efc3-4c49-bf74-adcc08332e23",
   "metadata": {},
   "outputs": [],
   "source": [
    "s4= {}"
   ]
  },
  {
   "cell_type": "code",
   "execution_count": 61,
   "id": "33aa58cd-cb9f-4822-b6f8-579948710a35",
   "metadata": {},
   "outputs": [
    {
     "data": {
      "text/plain": [
       "{}"
      ]
     },
     "execution_count": 61,
     "metadata": {},
     "output_type": "execute_result"
    }
   ],
   "source": [
    "s4"
   ]
  },
  {
   "cell_type": "code",
   "execution_count": 62,
   "id": "b1e4cd73-3d6f-4a3d-84ae-ed205dc8314d",
   "metadata": {},
   "outputs": [
    {
     "data": {
      "text/plain": [
       "0"
      ]
     },
     "execution_count": 62,
     "metadata": {},
     "output_type": "execute_result"
    }
   ],
   "source": [
    "len(s4)"
   ]
  },
  {
   "cell_type": "code",
   "execution_count": 63,
   "id": "a35b8cbc-25fa-42cb-9bc4-dd9772666ec7",
   "metadata": {},
   "outputs": [],
   "source": [
    "del s4"
   ]
  },
  {
   "cell_type": "code",
   "execution_count": 64,
   "id": "362055d0-15b2-4e9d-a06d-52bfda2f7860",
   "metadata": {},
   "outputs": [
    {
     "ename": "NameError",
     "evalue": "name 's4' is not defined",
     "output_type": "error",
     "traceback": [
      "\u001b[1;31m---------------------------------------------------------------------------\u001b[0m",
      "\u001b[1;31mNameError\u001b[0m                                 Traceback (most recent call last)",
      "Cell \u001b[1;32mIn[64], line 1\u001b[0m\n\u001b[1;32m----> 1\u001b[0m \u001b[43ms4\u001b[49m\n",
      "\u001b[1;31mNameError\u001b[0m: name 's4' is not defined"
     ]
    }
   ],
   "source": [
    "s4"
   ]
  },
  {
   "cell_type": "code",
   "execution_count": null,
   "id": "faa4932c-720c-4a06-9ffc-e7c9187424b6",
   "metadata": {},
   "outputs": [],
   "source": [
    "\n"
   ]
  },
  {
   "cell_type": "code",
   "execution_count": 69,
   "id": "02df18d3-d8cc-44eb-8eb3-1282a30e56a4",
   "metadata": {},
   "outputs": [
    {
     "data": {
      "text/plain": [
       "set"
      ]
     },
     "execution_count": 69,
     "metadata": {},
     "output_type": "execute_result"
    }
   ],
   "source": [
    "type(set1)"
   ]
  },
  {
   "cell_type": "code",
   "execution_count": 70,
   "id": "6c2f1bb0-07ff-436f-91ba-8ee6d9419c57",
   "metadata": {},
   "outputs": [
    {
     "data": {
      "text/plain": [
       "False"
      ]
     },
     "execution_count": 70,
     "metadata": {},
     "output_type": "execute_result"
    }
   ],
   "source": [
    "s2.issubset(set1)"
   ]
  },
  {
   "cell_type": "code",
   "execution_count": 71,
   "id": "831ebf26-f313-4c95-b1fa-7877617dbb13",
   "metadata": {},
   "outputs": [
    {
     "data": {
      "text/plain": [
       "True"
      ]
     },
     "execution_count": 71,
     "metadata": {},
     "output_type": "execute_result"
    }
   ],
   "source": [
    "set1.issubset(s3)"
   ]
  },
  {
   "cell_type": "code",
   "execution_count": null,
   "id": "ae00cf02-c569-4ab2-9e0d-b99e760d826c",
   "metadata": {},
   "outputs": [],
   "source": []
  }
 ],
 "metadata": {
  "kernelspec": {
   "display_name": "Python 3 (ipykernel)",
   "language": "python",
   "name": "python3"
  },
  "language_info": {
   "codemirror_mode": {
    "name": "ipython",
    "version": 3
   },
   "file_extension": ".py",
   "mimetype": "text/x-python",
   "name": "python",
   "nbconvert_exporter": "python",
   "pygments_lexer": "ipython3",
   "version": "3.11.5"
  }
 },
 "nbformat": 4,
 "nbformat_minor": 5
}
