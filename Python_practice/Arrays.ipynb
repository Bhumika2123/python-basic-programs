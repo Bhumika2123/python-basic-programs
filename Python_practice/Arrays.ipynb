{
 "cells": [
  {
   "cell_type": "markdown",
   "id": "0f4fc7e0-94a6-4cb3-a5d5-c30c539c2bde",
   "metadata": {},
   "source": [
    "*Arrays in python*"
   ]
  },
  {
   "cell_type": "code",
   "execution_count": 4,
   "id": "799f44e1-5b09-4a0f-b6a3-5fe4e8bd1454",
   "metadata": {},
   "outputs": [
    {
     "data": {
      "text/plain": [
       "array('i', [1, 2, 4, 5])"
      ]
     },
     "execution_count": 4,
     "metadata": {},
     "output_type": "execute_result"
    }
   ],
   "source": [
    "import array\n",
    "array1=array.array('i',[1,2,4,5])\n",
    "array1"
   ]
  },
  {
   "cell_type": "code",
   "execution_count": 7,
   "id": "6fa631f7-7510-4656-8ed4-19e8ac446d3c",
   "metadata": {},
   "outputs": [
    {
     "data": {
      "text/plain": [
       "array('i')"
      ]
     },
     "execution_count": 7,
     "metadata": {},
     "output_type": "execute_result"
    }
   ],
   "source": [
    "#empty array\n",
    "int_array=array.array('i', )\n",
    "int_array"
   ]
  },
  {
   "cell_type": "code",
   "execution_count": 8,
   "id": "c704b133-018a-4e64-bfcc-9c41dc4d6151",
   "metadata": {},
   "outputs": [
    {
     "data": {
      "text/plain": [
       "4"
      ]
     },
     "execution_count": 8,
     "metadata": {},
     "output_type": "execute_result"
    }
   ],
   "source": [
    "array1[2]"
   ]
  },
  {
   "cell_type": "code",
   "execution_count": 29,
   "id": "991c3733-b8c3-4faa-ae90-7ec07866847b",
   "metadata": {},
   "outputs": [],
   "source": [
    "array1.append(1)"
   ]
  },
  {
   "cell_type": "code",
   "execution_count": 30,
   "id": "46be1636-63b0-4609-b4bb-ee0504df59c8",
   "metadata": {},
   "outputs": [
    {
     "data": {
      "text/plain": [
       "array('i', [2, 2, 4, 6, 1])"
      ]
     },
     "execution_count": 30,
     "metadata": {},
     "output_type": "execute_result"
    }
   ],
   "source": [
    "array1"
   ]
  },
  {
   "cell_type": "code",
   "execution_count": 31,
   "id": "0502e1b5-282d-431d-bf8c-163d13597c50",
   "metadata": {},
   "outputs": [],
   "source": [
    "array1.extend([1,2,4,6])"
   ]
  },
  {
   "cell_type": "code",
   "execution_count": 32,
   "id": "a83ebbf4-a8c2-4256-97c3-706f4f96362d",
   "metadata": {},
   "outputs": [
    {
     "data": {
      "text/plain": [
       "array('i', [2, 2, 4, 6, 1, 1, 2, 4, 6])"
      ]
     },
     "execution_count": 32,
     "metadata": {},
     "output_type": "execute_result"
    }
   ],
   "source": [
    "array1"
   ]
  },
  {
   "cell_type": "code",
   "execution_count": 33,
   "id": "30691b57-e3fb-42d3-abf9-84572807081c",
   "metadata": {},
   "outputs": [],
   "source": [
    "array1.insert(1,2)"
   ]
  },
  {
   "cell_type": "code",
   "execution_count": 34,
   "id": "720efa67-3cb4-46bd-871c-09d4d686bc1a",
   "metadata": {},
   "outputs": [
    {
     "data": {
      "text/plain": [
       "array('i', [2, 2, 2, 4, 6, 1, 1, 2, 4, 6])"
      ]
     },
     "execution_count": 34,
     "metadata": {},
     "output_type": "execute_result"
    }
   ],
   "source": [
    "array1"
   ]
  },
  {
   "cell_type": "code",
   "execution_count": 35,
   "id": "13540a20-5596-42aa-8532-b1bf334e0fc5",
   "metadata": {},
   "outputs": [
    {
     "data": {
      "text/plain": [
       "array('i', [2, 2, 4, 6, 1, 1, 2, 4, 6])"
      ]
     },
     "execution_count": 35,
     "metadata": {},
     "output_type": "execute_result"
    }
   ],
   "source": [
    "array1.pop(2) #pop will take position\n",
    "array1\n"
   ]
  },
  {
   "cell_type": "code",
   "execution_count": 36,
   "id": "716939d2-ced7-48f6-b69a-f4de6772a73b",
   "metadata": {},
   "outputs": [
    {
     "data": {
      "text/plain": [
       "array('i', [2, 2, 4, 6, 1, 2, 4, 6])"
      ]
     },
     "execution_count": 36,
     "metadata": {},
     "output_type": "execute_result"
    }
   ],
   "source": [
    "array1.remove(1)\n",
    "array1 ## as many times we run this code it will remove 1 from the array"
   ]
  },
  {
   "cell_type": "code",
   "execution_count": 37,
   "id": "c1b01392-5f31-41fd-95fa-2fd250b0fc81",
   "metadata": {},
   "outputs": [
    {
     "name": "stdout",
     "output_type": "stream",
     "text": [
      "2\n",
      "2\n",
      "4\n",
      "6\n",
      "1\n",
      "2\n",
      "4\n",
      "6\n"
     ]
    }
   ],
   "source": [
    "#iterating through arrayusing for loop\n",
    "for i in array1:\n",
    "    print(i)"
   ]
  },
  {
   "cell_type": "code",
   "execution_count": null,
   "id": "63c95a7b-c6bc-4ec1-856c-cba4492e3e62",
   "metadata": {},
   "outputs": [],
   "source": []
  }
 ],
 "metadata": {
  "kernelspec": {
   "display_name": "Python 3 (ipykernel)",
   "language": "python",
   "name": "python3"
  },
  "language_info": {
   "codemirror_mode": {
    "name": "ipython",
    "version": 3
   },
   "file_extension": ".py",
   "mimetype": "text/x-python",
   "name": "python",
   "nbconvert_exporter": "python",
   "pygments_lexer": "ipython3",
   "version": "3.11.5"
  }
 },
 "nbformat": 4,
 "nbformat_minor": 5
}
