{
 "cells": [
  {
   "cell_type": "code",
   "execution_count": 1,
   "id": "e49293e7-5548-4c8b-a0a8-c599048324b5",
   "metadata": {},
   "outputs": [
    {
     "name": "stdout",
     "output_type": "stream",
     "text": [
      "yes\n"
     ]
    }
   ],
   "source": [
    "str= \"kjh oiuygfdfghj lkjhgfx\"\n",
    "if \"kjh\" in str:\n",
    "    print(\"yes\")"
   ]
  },
  {
   "cell_type": "code",
   "execution_count": 12,
   "id": "737535aa-c218-4847-8370-b08185178587",
   "metadata": {},
   "outputs": [
    {
     "name": "stdout",
     "output_type": "stream",
     "text": [
      "string found\n"
     ]
    }
   ],
   "source": [
    "str=\"vhv hd ediou ek eifh\"\n",
    "substring= \"hd\"\n",
    "if str.find(substring) != -1:\n",
    "    print(\"string found\")\n"
   ]
  },
  {
   "cell_type": "code",
   "execution_count": 15,
   "id": "9386b0b2-e1b8-4fcc-b1cc-e131c033e904",
   "metadata": {},
   "outputs": [
    {
     "name": "stdout",
     "output_type": "stream",
     "text": [
      "Substring not found\n"
     ]
    }
   ],
   "source": [
    "my_string = \"Hello, World!\"\n",
    "substring = \"lkjhg\"\n",
    "\n",
    "try:\n",
    "    index = my_string.index(substring)\n",
    "    print(\"Substring found at index:\", index)\n",
    "except ValueError:\n",
    "    print(\"Substring not found\")\n"
   ]
  },
  {
   "cell_type": "code",
   "execution_count": 7,
   "id": "aa8f6184-ff58-4e9e-9a89-37dfc25e8fd0",
   "metadata": {},
   "outputs": [
    {
     "name": "stdout",
     "output_type": "stream",
     "text": [
      "kjhgfdsedrftgyhuijopoiuytrexcvbn\n",
      "kjh\n",
      "xcvb\n"
     ]
    }
   ],
   "source": [
    "str= \"lkjhgfdsedrftgyhuijopoiuytrexcvbn\"\n",
    "print(str[1:])\n",
    "print(str[1:4])\n",
    "print(str[-5:-1]) ## -1 last index"
   ]
  },
  {
   "cell_type": "code",
   "execution_count": 14,
   "id": "3ff9e439-2fbb-4e2a-bc1a-56c8c08c50bb",
   "metadata": {},
   "outputs": [
    {
     "name": "stdout",
     "output_type": "stream",
     "text": [
      "ncrupiyfefj\n"
     ]
    }
   ],
   "source": [
    "print(str[::-1]) ##reverse the string"
   ]
  },
  {
   "cell_type": "code",
   "execution_count": 15,
   "id": "84abc44a-bc5e-49ec-a717-cdd899e464ef",
   "metadata": {},
   "outputs": [
    {
     "data": {
      "text/plain": [
       "'LKJHGFDSEDRFTGYHUIJOPOIUYTREXCVBN'"
      ]
     },
     "execution_count": 15,
     "metadata": {},
     "output_type": "execute_result"
    }
   ],
   "source": [
    "str.upper()"
   ]
  },
  {
   "cell_type": "code",
   "execution_count": 16,
   "id": "d9a436f3-fedf-4bb6-b76a-9ac682648dcb",
   "metadata": {},
   "outputs": [
    {
     "data": {
      "text/plain": [
       "'lkjhgfdsedrftgyhuijopoiuytrexcvbn'"
      ]
     },
     "execution_count": 16,
     "metadata": {},
     "output_type": "execute_result"
    }
   ],
   "source": [
    "str.lower()\n"
   ]
  },
  {
   "cell_type": "code",
   "execution_count": 22,
   "id": "3da8eacd-46c4-43f7-9ca2-78ad3dcdff3c",
   "metadata": {},
   "outputs": [
    {
     "name": "stdout",
     "output_type": "stream",
     "text": [
      "             lkjhgfdsedrftgyhuijopoiuytrexcvbn              \n"
     ]
    }
   ],
   "source": [
    "print(str.center(60))"
   ]
  },
  {
   "cell_type": "code",
   "execution_count": 24,
   "id": "a5b150cd-6db1-46e8-b8f5-2cbcbf48ae69",
   "metadata": {},
   "outputs": [
    {
     "name": "stdout",
     "output_type": "stream",
     "text": [
      "Lkjhgfdsedrftgyhuijopoiuytrexcvbn\n"
     ]
    }
   ],
   "source": [
    "print(str.capitalize())"
   ]
  },
  {
   "cell_type": "code",
   "execution_count": 25,
   "id": "cd4ededa-6be7-4b0e-b010-4dde882d6e27",
   "metadata": {},
   "outputs": [
    {
     "name": "stdout",
     "output_type": "stream",
     "text": [
      "lkjhgfdsedrftgyhuijopoiuytrexcvbn\n"
     ]
    }
   ],
   "source": [
    "print(str.casefold())"
   ]
  },
  {
   "cell_type": "code",
   "execution_count": 27,
   "id": "5658e2d8-a8a6-4d2b-81cc-9b1391adcd4d",
   "metadata": {},
   "outputs": [
    {
     "name": "stdout",
     "output_type": "stream",
     "text": [
      "b'lkjhgfdsedrftgyhuijopoiuytrexcvbn'\n"
     ]
    }
   ],
   "source": [
    "print(str.encode())"
   ]
  },
  {
   "cell_type": "code",
   "execution_count": 28,
   "id": "f831b40b-35d1-435b-b42d-475aa1bb78c8",
   "metadata": {},
   "outputs": [
    {
     "data": {
      "text/plain": [
       "True"
      ]
     },
     "execution_count": 28,
     "metadata": {},
     "output_type": "execute_result"
    }
   ],
   "source": [
    "str.endswith(\"bn\")"
   ]
  },
  {
   "cell_type": "code",
   "execution_count": 29,
   "id": "857c92a2-2c55-4054-b0d2-4e62f3030a81",
   "metadata": {},
   "outputs": [
    {
     "data": {
      "text/plain": [
       "'lkjhgfdsedrftgyhuijopoiuytrexcvbn'"
      ]
     },
     "execution_count": 29,
     "metadata": {},
     "output_type": "execute_result"
    }
   ],
   "source": [
    "str.expandtabs()"
   ]
  },
  {
   "cell_type": "code",
   "execution_count": 30,
   "id": "26b4e7ac-0179-4f87-9097-8fbf8eef00e6",
   "metadata": {},
   "outputs": [
    {
     "data": {
      "text/plain": [
       "11"
      ]
     },
     "execution_count": 30,
     "metadata": {},
     "output_type": "execute_result"
    }
   ],
   "source": [
    "str.find(\"ftg\")"
   ]
  },
  {
   "cell_type": "code",
   "execution_count": 32,
   "id": "7ca6ee6c-b2db-4575-9643-a74ac3bd6067",
   "metadata": {},
   "outputs": [
    {
     "name": "stdout",
     "output_type": "stream",
     "text": [
      "kjh jiugy opiugy  39\n"
     ]
    }
   ],
   "source": [
    "str2 = \"kjh jiugy opiugy {price: }\"\n",
    "print(str2.format(price= 39))"
   ]
  },
  {
   "cell_type": "code",
   "execution_count": 33,
   "id": "b39ac3c5-be12-4e27-83ca-63fcfb2f3892",
   "metadata": {},
   "outputs": [
    {
     "data": {
      "text/plain": [
       "True"
      ]
     },
     "execution_count": 33,
     "metadata": {},
     "output_type": "execute_result"
    }
   ],
   "source": [
    "str.isalnum()"
   ]
  },
  {
   "cell_type": "code",
   "execution_count": 34,
   "id": "23ebce40-f9d6-4c36-86a6-cd902a15e46d",
   "metadata": {},
   "outputs": [
    {
     "data": {
      "text/plain": [
       "False"
      ]
     },
     "execution_count": 34,
     "metadata": {},
     "output_type": "execute_result"
    }
   ],
   "source": [
    "str.isdigit()"
   ]
  },
  {
   "cell_type": "code",
   "execution_count": 35,
   "id": "3eb4701e-24f9-4d53-9b7e-8e7eba81c6f9",
   "metadata": {},
   "outputs": [
    {
     "data": {
      "text/plain": [
       "True"
      ]
     },
     "execution_count": 35,
     "metadata": {},
     "output_type": "execute_result"
    }
   ],
   "source": [
    "str.isidentifier()"
   ]
  },
  {
   "cell_type": "code",
   "execution_count": 37,
   "id": "8c4fa0c4-f8b2-41e4-951e-6c55e94f1c60",
   "metadata": {},
   "outputs": [
    {
     "data": {
      "text/plain": [
       "True"
      ]
     },
     "execution_count": 37,
     "metadata": {},
     "output_type": "execute_result"
    }
   ],
   "source": [
    "str.islower()"
   ]
  },
  {
   "cell_type": "code",
   "execution_count": 38,
   "id": "8c39ee3e-ff62-4d53-a8ef-5de1513536b0",
   "metadata": {},
   "outputs": [
    {
     "data": {
      "text/plain": [
       "False"
      ]
     },
     "execution_count": 38,
     "metadata": {},
     "output_type": "execute_result"
    }
   ],
   "source": [
    "str.isupper()"
   ]
  },
  {
   "cell_type": "code",
   "execution_count": 41,
   "id": "be49d0fa-8a8a-419e-9445-ecb900d03770",
   "metadata": {},
   "outputs": [
    {
     "data": {
      "text/plain": [
       "True"
      ]
     },
     "execution_count": 41,
     "metadata": {},
     "output_type": "execute_result"
    }
   ],
   "source": [
    "str.startswith(\"lk\")"
   ]
  },
  {
   "cell_type": "code",
   "execution_count": 46,
   "id": "8a8cb2e2-d7f6-4436-a58e-e10b1dc43f8a",
   "metadata": {},
   "outputs": [
    {
     "data": {
      "text/plain": [
       "'lkjhgfdsedrftgyhuijopoiuytrexcvbn'"
      ]
     },
     "execution_count": 46,
     "metadata": {},
     "output_type": "execute_result"
    }
   ],
   "source": [
    "str.zfill(2)"
   ]
  },
  {
   "cell_type": "code",
   "execution_count": 48,
   "id": "c448b3ae-0d22-487e-9f92-682c42ee06ff",
   "metadata": {
    "scrolled": true
   },
   "outputs": [
    {
     "name": "stdout",
     "output_type": "stream",
     "text": [
      "fghjkij\n"
     ]
    }
   ],
   "source": [
    "bhumi= \"         fghjkij\"## to remove leading and trailing whitespace from string\n",
    "print(bhumi.strip())"
   ]
  },
  {
   "cell_type": "code",
   "execution_count": 49,
   "id": "f7d3ef49-6fe4-4cd3-917d-ac6f18c084af",
   "metadata": {},
   "outputs": [
    {
     "data": {
      "text/plain": [
       "'jvug kkhgd kgcfydg louy kjhg'"
      ]
     },
     "execution_count": 49,
     "metadata": {},
     "output_type": "execute_result"
    }
   ],
   "source": [
    "str= \"jvug kkhgd kgcfydg louy gy\"\n",
    "str.replace(\"gy\" , \"kjhg\")"
   ]
  },
  {
   "cell_type": "code",
   "execution_count": 50,
   "id": "de5397df-6cbb-45e6-bdc4-31793905f6bb",
   "metadata": {},
   "outputs": [
    {
     "data": {
      "text/plain": [
       "b'jvug kkhgd kgcfydg louy gy'"
      ]
     },
     "execution_count": 50,
     "metadata": {},
     "output_type": "execute_result"
    }
   ],
   "source": [
    "str.encode()"
   ]
  },
  {
   "cell_type": "code",
   "execution_count": 53,
   "id": "481bc8c6-a90f-44d0-a78c-14eb8e6bf626",
   "metadata": {},
   "outputs": [
    {
     "data": {
      "text/plain": [
       "'kjhsg'"
      ]
     },
     "execution_count": 53,
     "metadata": {},
     "output_type": "execute_result"
    }
   ],
   "source": [
    "bstr= b'kjhsg'\n",
    "bstr.decode('utf-8')"
   ]
  },
  {
   "cell_type": "code",
   "execution_count": 55,
   "id": "8ea2623c-87fa-44a3-a20b-e117a8a720e7",
   "metadata": {},
   "outputs": [
    {
     "data": {
      "text/plain": [
       "['cvbnm', 'sdfghj', 'klkjhg', 'fcx']"
      ]
     },
     "execution_count": 55,
     "metadata": {},
     "output_type": "execute_result"
    }
   ],
   "source": [
    "str = \"cvbnm,sdfghj,klkjhg,fcx\"\n",
    "delimeter= \",\"\n",
    "str.split(delimeter)\n"
   ]
  },
  {
   "cell_type": "code",
   "execution_count": 56,
   "id": "afa77b7e-9896-445b-a5ff-f1698c17e907",
   "metadata": {},
   "outputs": [
    {
     "data": {
      "text/plain": [
       "['svbhj', 'cvgh', 'cvghjk', 'fghj', '']"
      ]
     },
     "execution_count": 56,
     "metadata": {},
     "output_type": "execute_result"
    }
   ],
   "source": [
    "str= \"svbhj/cvgh/cvghjk/fghj/\"\n",
    "str.split(\"/\")"
   ]
  },
  {
   "cell_type": "code",
   "execution_count": null,
   "id": "046d56bd-e1e5-4e52-9d26-82faa5dd529a",
   "metadata": {},
   "outputs": [],
   "source": []
  }
 ],
 "metadata": {
  "kernelspec": {
   "display_name": "Python 3 (ipykernel)",
   "language": "python",
   "name": "python3"
  },
  "language_info": {
   "codemirror_mode": {
    "name": "ipython",
    "version": 3
   },
   "file_extension": ".py",
   "mimetype": "text/x-python",
   "name": "python",
   "nbconvert_exporter": "python",
   "pygments_lexer": "ipython3",
   "version": "3.11.5"
  }
 },
 "nbformat": 4,
 "nbformat_minor": 5
}
