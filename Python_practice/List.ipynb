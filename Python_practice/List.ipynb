{
 "cells": [
  {
   "cell_type": "code",
   "execution_count": 4,
   "id": "f2f13726-4b5a-460e-b810-3ae09c1ebb07",
   "metadata": {},
   "outputs": [
    {
     "name": "stdout",
     "output_type": "stream",
     "text": [
      "2\n"
     ]
    }
   ],
   "source": [
    "l1= [1,2,3,5,4]\n",
    "print(l1[1])\n"
   ]
  },
  {
   "cell_type": "code",
   "execution_count": 5,
   "id": "20c79651-7638-44e8-808d-67d6a2930a6d",
   "metadata": {},
   "outputs": [],
   "source": [
    "l1.sort()"
   ]
  },
  {
   "cell_type": "code",
   "execution_count": 6,
   "id": "e73351dc-1690-4a47-9bce-89e953f110ac",
   "metadata": {},
   "outputs": [
    {
     "name": "stdout",
     "output_type": "stream",
     "text": [
      "[1, 2, 3, 4, 5]\n"
     ]
    }
   ],
   "source": [
    "print(l1)"
   ]
  },
  {
   "cell_type": "code",
   "execution_count": 12,
   "id": "f6a6bf34-eaef-4e05-add0-c5767e81d60c",
   "metadata": {},
   "outputs": [],
   "source": [
    "l1[1]=23  #replace the number"
   ]
  },
  {
   "cell_type": "code",
   "execution_count": 13,
   "id": "c4b51d35-8012-42a2-b805-a504564e7307",
   "metadata": {},
   "outputs": [
    {
     "name": "stdout",
     "output_type": "stream",
     "text": [
      "[1, 23, 3, 4, 5]\n"
     ]
    }
   ],
   "source": [
    "print(l1)"
   ]
  },
  {
   "cell_type": "code",
   "execution_count": 14,
   "id": "c27a55d2-a9dc-43ed-a945-54297727f8e3",
   "metadata": {},
   "outputs": [],
   "source": [
    "l1.reverse()"
   ]
  },
  {
   "cell_type": "code",
   "execution_count": 15,
   "id": "cf111a79-231d-4dca-863e-690d8397525e",
   "metadata": {},
   "outputs": [
    {
     "name": "stdout",
     "output_type": "stream",
     "text": [
      "[5, 4, 3, 23, 1]\n"
     ]
    }
   ],
   "source": [
    "print(l1)"
   ]
  },
  {
   "cell_type": "code",
   "execution_count": 16,
   "id": "748bfad4-d095-49e2-aa6b-a1a2dc949d86",
   "metadata": {},
   "outputs": [],
   "source": [
    "l2=l1"
   ]
  },
  {
   "cell_type": "code",
   "execution_count": 17,
   "id": "efa9d654-bd7f-427e-858c-435cbaa5e6d6",
   "metadata": {},
   "outputs": [
    {
     "data": {
      "text/plain": [
       "[5, 4, 3, 23, 1]"
      ]
     },
     "execution_count": 17,
     "metadata": {},
     "output_type": "execute_result"
    }
   ],
   "source": [
    "l1"
   ]
  },
  {
   "cell_type": "code",
   "execution_count": 18,
   "id": "a3dcb370-5c18-4463-96ea-cecbe1fe779c",
   "metadata": {},
   "outputs": [
    {
     "data": {
      "text/plain": [
       "[5, 4, 3, 23, 1]"
      ]
     },
     "execution_count": 18,
     "metadata": {},
     "output_type": "execute_result"
    }
   ],
   "source": [
    "l2"
   ]
  },
  {
   "cell_type": "code",
   "execution_count": 19,
   "id": "f18cf00e-0ed9-4d41-bee3-7276b6d7f94e",
   "metadata": {},
   "outputs": [],
   "source": [
    "l1[1]=10"
   ]
  },
  {
   "cell_type": "code",
   "execution_count": 20,
   "id": "66819310-ed3d-4911-87f4-a043227656a3",
   "metadata": {},
   "outputs": [
    {
     "data": {
      "text/plain": [
       "[5, 10, 3, 23, 1]"
      ]
     },
     "execution_count": 20,
     "metadata": {},
     "output_type": "execute_result"
    }
   ],
   "source": [
    "l1\n"
   ]
  },
  {
   "cell_type": "code",
   "execution_count": 21,
   "id": "2fd122d2-feec-4fbd-9488-0b856f29777f",
   "metadata": {},
   "outputs": [
    {
     "data": {
      "text/plain": [
       "[5, 10, 3, 23, 1]"
      ]
     },
     "execution_count": 21,
     "metadata": {},
     "output_type": "execute_result"
    }
   ],
   "source": [
    "l2"
   ]
  },
  {
   "cell_type": "code",
   "execution_count": 22,
   "id": "62519690-b737-41b1-a7aa-9265c61becd8",
   "metadata": {},
   "outputs": [],
   "source": [
    "l2=l1.copy()"
   ]
  },
  {
   "cell_type": "code",
   "execution_count": 23,
   "id": "57f50eb5-c9fa-4b45-958a-f0dc9a29d49c",
   "metadata": {},
   "outputs": [],
   "source": [
    "l2[1]=2"
   ]
  },
  {
   "cell_type": "code",
   "execution_count": 24,
   "id": "c65435cf-30ef-4b5b-a62f-a0a984f5ee86",
   "metadata": {},
   "outputs": [
    {
     "data": {
      "text/plain": [
       "[5, 2, 3, 23, 1]"
      ]
     },
     "execution_count": 24,
     "metadata": {},
     "output_type": "execute_result"
    }
   ],
   "source": [
    "l2"
   ]
  },
  {
   "cell_type": "code",
   "execution_count": 25,
   "id": "4187af80-2e00-4a19-bf59-656ba70e4bab",
   "metadata": {},
   "outputs": [
    {
     "data": {
      "text/plain": [
       "[5, 10, 3, 23, 1]"
      ]
     },
     "execution_count": 25,
     "metadata": {},
     "output_type": "execute_result"
    }
   ],
   "source": [
    "l1"
   ]
  },
  {
   "cell_type": "code",
   "execution_count": 26,
   "id": "056082f3-2d1c-400c-9273-d263f8374d99",
   "metadata": {},
   "outputs": [],
   "source": [
    "##using for loop"
   ]
  },
  {
   "cell_type": "code",
   "execution_count": 31,
   "id": "244fc079-f4d3-4444-8b5d-effbce0bb180",
   "metadata": {},
   "outputs": [
    {
     "name": "stdout",
     "output_type": "stream",
     "text": [
      "1\n",
      "2\n",
      "4\n",
      "5\n",
      "8\n",
      "9\n",
      "0\n"
     ]
    }
   ],
   "source": [
    "l1=[1,2,4,5,8,9,0]\n",
    "for item in l1:\n",
    "    print(item)"
   ]
  },
  {
   "cell_type": "code",
   "execution_count": 28,
   "id": "9dbebc3c-f3cc-4857-a138-73ee71c214ac",
   "metadata": {},
   "outputs": [],
   "source": [
    "#checking item in list "
   ]
  },
  {
   "cell_type": "code",
   "execution_count": 39,
   "id": "1874be96-d7e1-4354-84f4-07db24ba6d62",
   "metadata": {},
   "outputs": [
    {
     "name": "stdin",
     "output_type": "stream",
     "text": [
      "enter 53\n"
     ]
    },
    {
     "name": "stdout",
     "output_type": "stream",
     "text": [
      "no\n"
     ]
    }
   ],
   "source": [
    "lst=[1,2,3,5,7,9]\n",
    "item = int(input(\"enter\"))\n",
    "if item in lst:\n",
    "    print(\"yes\")\n",
    "else:\n",
    "    print(\"no\")"
   ]
  },
  {
   "cell_type": "code",
   "execution_count": 40,
   "id": "86c64f00-02d1-4e3a-9dfa-8ab4686d1bad",
   "metadata": {},
   "outputs": [
    {
     "name": "stdout",
     "output_type": "stream",
     "text": [
      "None\n",
      "[1, 45, 9, 1, 5, 8, 2]\n"
     ]
    }
   ],
   "source": [
    "##remove\n",
    "lst1=[1,2,45,9,1,5,8,2]\n",
    "removed= lst1.remove(2)\n",
    "print(removed)\n",
    "print(lst1)"
   ]
  },
  {
   "cell_type": "code",
   "execution_count": 41,
   "id": "421aaa57-9e56-4349-9449-9b03e46e4124",
   "metadata": {},
   "outputs": [
    {
     "name": "stdout",
     "output_type": "stream",
     "text": [
      "45\n",
      "[1, 2, 9, 1, 5, 8, 2]\n"
     ]
    }
   ],
   "source": [
    "#pop\n",
    "lst1=[1,2,45,9,1,5,8,2]\n",
    "removed= lst1.pop(2)\n",
    "print(removed)\n",
    "print(lst1)"
   ]
  },
  {
   "cell_type": "code",
   "execution_count": 42,
   "id": "70cca8f3-b33c-454c-872a-75c6c062c0aa",
   "metadata": {},
   "outputs": [],
   "source": [
    "#2d list\n",
    "\n",
    "matrix= [\n",
    "    [1,2,4],\n",
    "    [2,4,5]\n",
    "]\n",
    "value=matrix[1][2]"
   ]
  },
  {
   "cell_type": "code",
   "execution_count": 43,
   "id": "7a36a8e2-529b-4022-8e41-b0b5459b89ea",
   "metadata": {},
   "outputs": [
    {
     "data": {
      "text/plain": [
       "5"
      ]
     },
     "execution_count": 43,
     "metadata": {},
     "output_type": "execute_result"
    }
   ],
   "source": [
    "value"
   ]
  },
  {
   "cell_type": "code",
   "execution_count": 45,
   "id": "86f707a4-360f-4e72-8555-98c46f3594df",
   "metadata": {},
   "outputs": [
    {
     "name": "stdout",
     "output_type": "stream",
     "text": [
      "1 2 4 \n",
      "2 4 5 \n"
     ]
    }
   ],
   "source": [
    "for i in matrix:\n",
    "    for j in i:\n",
    "        print(j, end=\" \")\n",
    "    print()"
   ]
  },
  {
   "cell_type": "code",
   "execution_count": 46,
   "id": "5ccc7efc-c9ce-4a17-9dde-392b4b09489e",
   "metadata": {},
   "outputs": [
    {
     "name": "stdout",
     "output_type": "stream",
     "text": [
      "[1, 2, 4] [2, 4, 5] "
     ]
    }
   ],
   "source": [
    "for i in matrix:\n",
    "    print(i, end=\" \")"
   ]
  },
  {
   "cell_type": "code",
   "execution_count": null,
   "id": "9906f484-97d0-4885-99f6-5d7383e29e61",
   "metadata": {},
   "outputs": [],
   "source": []
  }
 ],
 "metadata": {
  "kernelspec": {
   "display_name": "Python 3 (ipykernel)",
   "language": "python",
   "name": "python3"
  },
  "language_info": {
   "codemirror_mode": {
    "name": "ipython",
    "version": 3
   },
   "file_extension": ".py",
   "mimetype": "text/x-python",
   "name": "python",
   "nbconvert_exporter": "python",
   "pygments_lexer": "ipython3",
   "version": "3.11.5"
  }
 },
 "nbformat": 4,
 "nbformat_minor": 5
}
