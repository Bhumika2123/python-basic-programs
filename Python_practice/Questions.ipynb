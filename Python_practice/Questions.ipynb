{
 "cells": [
  {
   "cell_type": "markdown",
   "id": "85c5bebf-66fa-4344-a239-382fa92208c0",
   "metadata": {},
   "source": [
    "question1: is  that if input is in the form of A9142GB\n",
    "then it will print output as ABG1249\n"
   ]
  },
  {
   "cell_type": "code",
   "execution_count": 12,
   "id": "daca3b35-cd23-4ad9-94c5-ded83a46d7dd",
   "metadata": {},
   "outputs": [
    {
     "name": "stdin",
     "output_type": "stream",
     "text": [
      "enter A9142GB\n"
     ]
    },
    {
     "name": "stdout",
     "output_type": "stream",
     "text": [
      "ABG1249\n"
     ]
    }
   ],
   "source": [
    "x= input(\"enter\")\n",
    "alpha=[]\n",
    "numeric=[]\n",
    "\n",
    "for ch in x:\n",
    "    if ch.isalpha():\n",
    "        alpha.append(ch)\n",
    "    else:\n",
    "        numeric.append(ch)\n",
    "\n",
    "alpha.sort()\n",
    "numeric.sort()\n",
    "y= alpha+numeric\n",
    "z= \"\".join(y)\n",
    "\n",
    "\n",
    "print(z)\n"
   ]
  },
  {
   "cell_type": "markdown",
   "id": "baf0cf27-5ac0-4dab-9e2b-c97e8adbea99",
   "metadata": {},
   "source": [
    "question 2:\n",
    "wap to display the words that are repeated more than or equal to n times in the text"
   ]
  },
  {
   "cell_type": "code",
   "execution_count": 29,
   "id": "040ee4e5-b607-44d3-91cd-f58cb12cdad7",
   "metadata": {},
   "outputs": [
    {
     "name": "stdin",
     "output_type": "stream",
     "text": [
      "enter string fghj fgh oiu fgh fgh fhj fgh fgh fgh rty rt\n",
      "enter number 3\n"
     ]
    },
    {
     "name": "stdout",
     "output_type": "stream",
     "text": [
      "fgh\n"
     ]
    }
   ],
   "source": [
    "str= input(\"enter string\")\n",
    "y= int(input(\"enter number\"))\n",
    "str1= str.split()\n",
    "count = dict()\n",
    "for word in str1:\n",
    "    if word in count:\n",
    "        count[word]+=1\n",
    "\n",
    "    else:\n",
    "        count[word]=1\n",
    "word_list=[]\n",
    "for key in count:\n",
    "    if count[key]>=y:\n",
    "        word_list.append(key)\n",
    "\n",
    "\n",
    "if len(word_list)>0:\n",
    "    print(\"\".join(word_list))\n",
    "else:\n",
    "    print(\"na\")\n",
    "\n"
   ]
  },
  {
   "cell_type": "code",
   "execution_count": 42,
   "id": "09faed67-da15-4a99-973e-ea876e2ce425",
   "metadata": {},
   "outputs": [
    {
     "name": "stdout",
     "output_type": "stream",
     "text": [
      "50\n",
      "binary of number 50 is 110010\n",
      "reverse of number 50 is 001101\n"
     ]
    },
    {
     "data": {
      "text/plain": [
       "13"
      ]
     },
     "execution_count": 42,
     "metadata": {},
     "output_type": "execute_result"
    }
   ],
   "source": [
    "def change_ads(num):\n",
    "    print(num)\n",
    "    b=bin(num)\n",
    "    b= b[2:len(b)]\n",
    "    b1=\"\"\n",
    "    for i in b:\n",
    "        if i == '1':\n",
    "            b1= b1+'0'  # if i bit is one change it to 0\n",
    "        else:\n",
    "            b1=b1+'1'   # if i bit is zero change it to 1\n",
    "\n",
    "    print(f\"binary of number\",num,\"is\" ,b)\n",
    "   \n",
    "\n",
    "    sum1= 0\n",
    "    for j in range(len(b1)):\n",
    "        sum1= sum1+(int(b1[j])*(2**(len(b1)-(j+1))))\n",
    "    print(f\"reverse of number\",num,\"is\" ,b1)\n",
    "    return sum1\n",
    "   \n",
    "\n",
    "\n",
    "change_ads(50)"
   ]
  },
  {
   "cell_type": "markdown",
   "id": "74de45fa-5057-4a91-a129-5244d34835c0",
   "metadata": {},
   "source": [
    "### write a program for finding pair of highest product"
   ]
  },
  {
   "cell_type": "code",
   "execution_count": 65,
   "id": "a189272c-f754-443b-b7c5-3b2e5b5cc84a",
   "metadata": {},
   "outputs": [
    {
     "name": "stdin",
     "output_type": "stream",
     "text": [
      "enter array [1,2,4,6]\n"
     ]
    },
    {
     "name": "stdout",
     "output_type": "stream",
     "text": [
      "the pair whose product is maximum is (4, 6)\n"
     ]
    }
   ],
   "source": [
    "def max_product(arr):\n",
    "    if len(arr)<2:\n",
    "        print(\"no such product available\")\n",
    "        return\n",
    "    a= arr[0]\n",
    "    b= arr[1]\n",
    "    for i in range(0,len(arr)):\n",
    "        for j in range(i+1, len(arr)):\n",
    "            if (arr[i]*arr[j])>(a*b):\n",
    "                a=arr[i]\n",
    "                b=arr[j]\n",
    "    return a,b\n",
    "            \n",
    "\n",
    "                       \n",
    "        \n",
    "         \n",
    "        \n",
    "        \n",
    "arr= eval(input(\"enter array\"))\n",
    "print(\"the pair whose product is maximum is\", max_product(arr))\n",
    "\n"
   ]
  },
  {
   "cell_type": "markdown",
   "id": "67696ecd-0b72-4ea3-bfc9-c72762e8b155",
   "metadata": {},
   "source": [
    "### question is that we have to find the side of rectangle by which we get the max area of  rectangle, input is number of sticks and lenght of each stick as array"
   ]
  },
  {
   "cell_type": "code",
   "execution_count": 99,
   "id": "caf86df0-fd4a-4e2c-8832-db3784178436",
   "metadata": {},
   "outputs": [
    {
     "name": "stdin",
     "output_type": "stream",
     "text": [
      "enter the number of stick 8\n",
      "enter lenght of each stick in array [1,2,3,2,1,3,4,4]\n"
     ]
    },
    {
     "name": "stdout",
     "output_type": "stream",
     "text": [
      "lenght and bredth of rectangle which will have max product is (3, 4)\n"
     ]
    }
   ],
   "source": [
    "#this is complete my solution\n",
    "\n",
    "\n",
    "def func(my_list):\n",
    "    # Create a dictionary to store the counts of each element\n",
    "    element_counts = {}\n",
    "    \n",
    "    # Count the occurrences of each element in the list\n",
    "    for item in my_list:\n",
    "        if item in element_counts:\n",
    "            element_counts[item] += 1\n",
    "        else:\n",
    "            element_counts[item] = 1\n",
    "    \n",
    "    # Create a new list with elements that appear at least 2 times\n",
    "    new_list1 = [item for item in my_list if element_counts[item] >= 2]\n",
    "    #print(new_list1)\n",
    "    new_list = list(dict.fromkeys(new_list1))\n",
    "    #print(new_list)\n",
    "\n",
    "    a= new_list[0]\n",
    "    b= new_list[1]\n",
    "    for i in range(0,len(new_list)):\n",
    "        for j in range(i+1, len(new_list)):\n",
    "            if (new_list[i]*new_list[j])>(a*b):\n",
    "                a=new_list[i]\n",
    "                b=new_list[j]\n",
    "    return a, b\n",
    "    \n",
    "\n",
    "sticks= int(input(\"enter the number of stick\"))\n",
    "my_list = eval(input(\"enter lenght of each stick in array\"))\n",
    "print(\"lenght and bredth of rectangle which will have max product is\", func(my_list))\n",
    "\n"
   ]
  },
  {
   "cell_type": "code",
   "execution_count": 113,
   "id": "b28f6911-4a0c-44f3-92b1-86f48af0e0e1",
   "metadata": {},
   "outputs": [
    {
     "name": "stdout",
     "output_type": "stream",
     "text": [
      "12\n"
     ]
    }
   ],
   "source": [
    "#another solution of above question\n",
    "\n",
    "def rectangle(n_sticks, length):\n",
    "    arr=[]\n",
    "    for stk in length:\n",
    "        if length.count(stk)>=2 and stk not in arr:\n",
    "            arr.append(stk)\n",
    "    #print(arr)\n",
    "\n",
    "    max_area= 0\n",
    "    for i in range(len(arr)):\n",
    "        for j in range(i + 1, len(arr)):\n",
    "            if arr[i]*arr[j]>max_area:\n",
    "                max_area= arr[i]*arr[j]\n",
    "    return max_area\n",
    "    \n",
    "\n",
    "  \n",
    "print(rectangle(7, [1, 2, 3, 3, 4, 4, 1]))\n",
    "          \n",
    "\n",
    "        "
   ]
  },
  {
   "cell_type": "markdown",
   "id": "9d81e298-38ce-4e17-95df-f3d6bd5d16a6",
   "metadata": {},
   "source": [
    "### take two input from user one in integer array and second one is target you have to return index of two number such tath they will add up to give the target"
   ]
  },
  {
   "cell_type": "code",
   "execution_count": 31,
   "id": "7226e369-7490-4f0d-ae15-51c3cb679940",
   "metadata": {},
   "outputs": [
    {
     "name": "stdin",
     "output_type": "stream",
     "text": [
      "enter the array like [1,2,3,5,6] [5,7,3,9,8,19,21]\n",
      "enter the target sum 11\n"
     ]
    },
    {
     "name": "stdout",
     "output_type": "stream",
     "text": [
      "(2, 4)\n"
     ]
    }
   ],
   "source": [
    "\n",
    "def number(arr, target):\n",
    "    for i in range(len(arr)):\n",
    "        for j in range(i+1,len(arr)):\n",
    "            if arr[i] +arr[j] == target:\n",
    "                return (i, j)\n",
    "\n",
    "    return None\n",
    "\n",
    "\n",
    "\n",
    "arr= eval(input(\"enter the array like [1,2,3,5,6]\"))\n",
    "target= int(input(\"enter the target sum\"))\n",
    "\n",
    "print(number(arr, target))\n",
    "\n",
    "\n"
   ]
  },
  {
   "cell_type": "markdown",
   "id": "93899ecf-98e9-4689-abff-361f53de7658",
   "metadata": {},
   "source": [
    "### iterate on list without using loop start to end"
   ]
  },
  {
   "cell_type": "markdown",
   "id": "e6b5cc6e-6e84-4b99-994d-3a33ae64c4be",
   "metadata": {},
   "source": [
    "expected output \n",
    "enter a list; [10,2,3,5,7]\n",
    "enter start index: 1\n",
    "ending index: 4\n",
    "output: [2,3,5]"
   ]
  },
  {
   "cell_type": "code",
   "execution_count": 139,
   "id": "f83615ee-9709-43cf-b094-1c390eddbe31",
   "metadata": {},
   "outputs": [
    {
     "name": "stdin",
     "output_type": "stream",
     "text": [
      "enter list [1,2,43,5]\n",
      "enter staring index 1\n",
      "enter ending index 3\n"
     ]
    },
    {
     "name": "stdout",
     "output_type": "stream",
     "text": [
      "2 43 "
     ]
    }
   ],
   "source": [
    "lst= eval(input(\"enter list\"))\n",
    "start=eval(input(\"enter staring index\"))\n",
    "end= eval(input(\"enter ending index\"))\n",
    "def iterate(lst,start, end):\n",
    "    if start<0 or start>=end:\n",
    "        return\n",
    "    print(lst[start], end= \" \")\n",
    "    iterate(lst,start+1, end)\n",
    "\n",
    "\n",
    "iterate(lst, start, end)\n",
    "    "
   ]
  },
  {
   "cell_type": "code",
   "execution_count": 146,
   "id": "0d5d46f9-fde6-407e-894a-07b5a6b1ef2c",
   "metadata": {},
   "outputs": [
    {
     "name": "stdin",
     "output_type": "stream",
     "text": [
      "enter the list [1,2,4,5]\n"
     ]
    },
    {
     "name": "stdout",
     "output_type": "stream",
     "text": [
      "1\n",
      "2\n",
      "4\n",
      "5\n"
     ]
    }
   ],
   "source": [
    "lst = eval(input(\"enter the list\"))\n",
    "\n",
    "def iterate(lst, start=0):\n",
    "    if start>= len(lst):\n",
    "        return\n",
    "    print(lst[start])\n",
    "    iterate(lst, start+1)\n",
    "\n",
    "\n",
    "iterate(lst)"
   ]
  },
  {
   "cell_type": "code",
   "execution_count": 176,
   "id": "12ee771b-c59e-406f-b1d5-d989e610f79f",
   "metadata": {},
   "outputs": [
    {
     "name": "stdin",
     "output_type": "stream",
     "text": [
      "enter sting with digit like a2b3n4 a2v3b4n5\n"
     ]
    },
    {
     "name": "stdout",
     "output_type": "stream",
     "text": [
      "aavvvbbbbnnnnn\n"
     ]
    }
   ],
   "source": [
    "# expected input a2b3n4 --> expected output --> aabbbnnnn\n",
    "\n",
    "\n",
    "str1= input(\"enter sting with digit like a2b3n4\")\n",
    "output=\"\"\n",
    "for char in str1:\n",
    "    if char.isalpha():\n",
    "        var= char\n",
    "    else:\n",
    "        num=int(char)\n",
    "        output= output+(var*num)\n",
    "\n",
    "print(output)"
   ]
  },
  {
   "cell_type": "markdown",
   "id": "bcbfefb5-d0cc-4965-93de-75142772787c",
   "metadata": {},
   "source": [
    "### find common letters between two strings"
   ]
  },
  {
   "cell_type": "code",
   "execution_count": 3,
   "id": "52b5675b-7a1a-47f7-8901-f28beb0e30ab",
   "metadata": {},
   "outputs": [
    {
     "name": "stdin",
     "output_type": "stream",
     "text": [
      "enter1 lkjuygtrd\n",
      "enter2 ertyufghnmbnmghj\n"
     ]
    },
    {
     "name": "stdout",
     "output_type": "stream",
     "text": [
      "{'t', 'r', 'u', 'j', 'g', 'y'}\n"
     ]
    }
   ],
   "source": [
    "def common():\n",
    "    str1=input(\"enter1\")\n",
    "    str2= input(\"enter2\")\n",
    "    s1= set(str1)\n",
    "    s2=set(str2)\n",
    "    common_letter= s1&s2\n",
    "    print(common_letter)\n",
    "common()"
   ]
  },
  {
   "cell_type": "markdown",
   "id": "e65c21d6-a5f4-4350-83e2-550f71532f2e",
   "metadata": {},
   "source": [
    "### count the frequency of words in string\n"
   ]
  },
  {
   "cell_type": "code",
   "execution_count": 14,
   "id": "6f357eaf-589e-4867-a241-21ce8c93a5a7",
   "metadata": {},
   "outputs": [
    {
     "name": "stdout",
     "output_type": "stream",
     "text": [
      "{'she': 2, 'is': 2, 'bi': 2, 'e': 1, 'j': 3, 'duh': 2, 'jbdb': 1, 'eg': 1, 'ef': 1, 'jbu': 1, 'ch': 1, 'hbh': 1, 'bdihu': 1, 'ddih': 1}\n"
     ]
    }
   ],
   "source": [
    "def freq_words():\n",
    "    str1= \"she is bi e j duh jbdb eg j ef she jbu ch hbh bdihu ddih j duh is bi\"\n",
    "    l1= str1.split()\n",
    "    d1= {}\n",
    "    for i in l1:\n",
    "        if i not in d1.keys():\n",
    "            d1[i]=0\n",
    "        d1[i]=d1[i]+1\n",
    "    print(d1)\n",
    "freq_words()"
   ]
  },
  {
   "cell_type": "code",
   "execution_count": 20,
   "id": "f1f543ec-f203-4694-85e9-43575f592751",
   "metadata": {},
   "outputs": [
    {
     "name": "stdout",
     "output_type": "stream",
     "text": [
      "{1: 'hjk', 2: 'fghj', 4: 'tyui'}\n"
     ]
    }
   ],
   "source": [
    "def joint():\n",
    "    keys = [1,2,4]\n",
    "    values = [\"hjk\", \"fghj\", \"tyui\"]\n",
    "    d1= dict(zip(keys, values))\n",
    "    print(d1)\n",
    "\n",
    "joint()"
   ]
  },
  {
   "cell_type": "code",
   "execution_count": 22,
   "id": "b2885275-2e7f-4b94-b7d7-efe5d43b9794",
   "metadata": {},
   "outputs": [
    {
     "name": "stdout",
     "output_type": "stream",
     "text": [
      "{1: 'hjk', 2: 'fghj', 4: 'tyui'}\n",
      "(1, 'hjk')\n",
      "(2, 'fghj')\n",
      "(4, 'tyui')\n"
     ]
    }
   ],
   "source": [
    "def joint():\n",
    "    keys = [1,2,4]\n",
    "    values = [\"hjk\", \"fghj\", \"tyui\"]\n",
    "    d1= dict(zip(keys, values))\n",
    "    print(d1)\n",
    "    for i in d1.items():  #to convert dictionary into tuple\n",
    "        print(i)\n",
    "\n",
    "joint()"
   ]
  },
  {
   "cell_type": "markdown",
   "id": "f6b4f440-ce07-4494-9141-485cf9f9b804",
   "metadata": {},
   "source": [
    "### find missing number in an array(using summation and xor operation)\n",
    "    "
   ]
  },
  {
   "cell_type": "code",
   "execution_count": 30,
   "id": "7dbfb18a-7afe-475d-bdcb-da07ea87e863",
   "metadata": {},
   "outputs": [
    {
     "name": "stdout",
     "output_type": "stream",
     "text": [
      "4\n"
     ]
    }
   ],
   "source": [
    "#using summation\n",
    "#sum of natural number =n*(n+1)/2\n",
    "def get_missing_number_usingSummation(a):\n",
    "    n =a[-1]\n",
    "    sum1=0\n",
    "    total =n*(n+1)//2\n",
    "    sum1=sum(a)\n",
    "    print(int(total-sum1))\n",
    "\n",
    "\n",
    "a= [1,2,3,5,6,7]\n",
    "\n",
    "get_missing_number_usingSummation(a)"
   ]
  },
  {
   "cell_type": "code",
   "execution_count": 34,
   "id": "9d8fb0d9-22ce-4bb7-ac07-e341349b1c06",
   "metadata": {},
   "outputs": [
    {
     "name": "stdout",
     "output_type": "stream",
     "text": [
      "values are  2 and 6\n",
      "values are  3 and 5\n"
     ]
    }
   ],
   "source": [
    "#find out pairs with given sum value of an array\n",
    "\"\"\"First sort the arrray\"\"\"\n",
    "\n",
    "def twosum(arr,sum):\n",
    "    arr.sort()\n",
    "    left=0\n",
    "    right= len(arr)-1\n",
    "    while(left<=right):\n",
    "        if (arr[left]+arr[right]>sum):\n",
    "            right=right-1\n",
    "        elif (arr[left]+arr[right]<sum):\n",
    "            left=left+1\n",
    "        elif (arr[left]+arr[right]==sum):\n",
    "            print(\"values are \",arr[left] ,\"and\" ,arr[right])\n",
    "            right=right-1\n",
    "            left=left+1\n",
    "\n",
    "\n",
    "arr=[1,2,3,5,6,78,89]\n",
    "sum=8\n",
    "twosum(arr,sum)"
   ]
  },
  {
   "cell_type": "code",
   "execution_count": null,
   "id": "d9507676-598f-4ef9-a3c2-53ddd7b411d2",
   "metadata": {},
   "outputs": [],
   "source": []
  }
 ],
 "metadata": {
  "kernelspec": {
   "display_name": "Python 3 (ipykernel)",
   "language": "python",
   "name": "python3"
  },
  "language_info": {
   "codemirror_mode": {
    "name": "ipython",
    "version": 3
   },
   "file_extension": ".py",
   "mimetype": "text/x-python",
   "name": "python",
   "nbconvert_exporter": "python",
   "pygments_lexer": "ipython3",
   "version": "3.11.5"
  }
 },
 "nbformat": 4,
 "nbformat_minor": 5
}
